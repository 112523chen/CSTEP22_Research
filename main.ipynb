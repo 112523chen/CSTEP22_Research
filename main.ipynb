{
 "cells": [
  {
   "cell_type": "code",
   "execution_count": 1,
   "metadata": {},
   "outputs": [],
   "source": [
    "import pandas as pd\n",
    "import numpy as np\n",
    "import os"
   ]
  },
  {
   "cell_type": "code",
   "execution_count": 2,
   "metadata": {},
   "outputs": [],
   "source": [
    "# changes directory to the datasets folder\n",
    "os.chdir(\"./datasets\")\n",
    "# stores directory to datasets folder to be used later to get the csv files\n",
    "root = os.getcwd()\n",
    "# stores files names in current directory (datasets) in a list to be used later get a dataFrame \n",
    "files = os.listdir()\n",
    "# removes hidden file \n",
    "files.remove(\".DS_Store\")\n",
    "# assign a dictionary to referenced in the future to store dataFrames\n",
    "datasets = dict()\n",
    "\n",
    "\n",
    "for item in files:\n",
    "\n",
    "    # converts csv files to dataFrames\n",
    "    path = str(f'{root}/{item}')\n",
    "    df = pd.read_csv(path)\n",
    "\n",
    "    # gets specific file \n",
    "    br = item.split(\"_\")\n",
    "    targets = br[1:]\n",
    "\n",
    "    # converts file name from snake case to camel case\n",
    "    for i in range(len(targets)):\n",
    "        if i > 0:\n",
    "            text = targets[i]\n",
    "            text = text.capitalize()\n",
    "            targets[i] = text\n",
    "    target = \"\".join(targets)\n",
    "    \n",
    "    # removes file type from the end of string\n",
    "    target = target[:-4]\n",
    "\n",
    "    #stores dataFrames with camel case file name as key\n",
    "    datasets[target] = df\n",
    "\n",
    "    # print(targets,target)\n",
    "\n",
    "# ! there will less datasets when compared to files in dataset folder since the is one instance of datasets spanning multiple questions\n",
    "# * { files: 23 , datasets: 20}\n"
   ]
  },
  {
   "cell_type": "code",
   "execution_count": 5,
   "metadata": {},
   "outputs": [
    {
     "name": "stdout",
     "output_type": "stream",
     "text": [
      "facebookPosts:['post_id', 'poster', 'post_text', 'post_keywords', 'post_date']\n",
      "facebookPostViews:['post_id', 'viewer_id']\n",
      "lyftRides:['index', 'weather', 'hour', 'travel_distance', 'gasoline_cost']\n",
      "playbookUsers:['user_id', 'created_at', 'company_id', 'language', 'activated_at', 'state']\n",
      "onlineRetail:['invoiceno', 'stockcode', 'description', 'quantity', 'invoicedate', 'unitprice', 'customerid', 'country']\n",
      "sfRestaurantHealthViolations:['business_id', 'business_name', 'business_address', 'business_city', 'business_state', 'business_postal_code', 'business_latitude', 'business_longitude', 'business_location', 'business_phone_number', 'inspection_id', 'inspection_date', 'inspection_score', 'inspection_type', 'violation_id', 'violation_description', 'risk_category']\n",
      "winemagP1:['id', 'country', 'description', 'designation', 'points', 'price', 'province', 'region_1', 'region_2', 'variety', 'winery']\n",
      "satScores:['school', 'teacher', 'student_id', 'sat_writing', 'sat_verbal', 'sat_math', 'hrs_studied', 'id', 'average_sat', 'love']\n",
      "airbnbSearchDetails:['id', 'price', 'property_type', 'room_type', 'amenities', 'accommodates', 'bathrooms', 'bed_type', 'cancellation_policy', 'cleaning_fee', 'city', 'host_identity_verified', 'host_response_rate', 'host_since', 'neighbourhood', 'number_of_reviews', 'review_scores_rating', 'zipcode', 'bedrooms', 'beds']\n",
      "employee:['id', 'first_name', 'last_name', 'age', 'sex', 'employee_title', 'department', 'salary', 'target', 'bonus', 'email', 'city', 'address', 'manager_id']\n",
      "googleGmailEmails:['id', 'from_user', 'to_user', 'day']\n",
      "fbComments:['user_id', 'body', 'created_at']\n",
      "userFlags:['user_firstname', 'user_lastname', 'video_id', 'flag_id']\n",
      "googleFitLocation:['user_id', 'session_id', 'step_id', 'day', 'latitude', 'longitude', 'altitude']\n",
      "fbUsers:['id', 'name', 'joined_at', 'city_id', 'device']\n",
      "playbookEvents:['user_id', 'occurred_at', 'event_type', 'event_name', 'location', 'device']\n",
      "fraudScore:['policy_num', 'state', 'claim_cost', 'fraud_score']\n",
      "facebookReactions:['poster', 'friend', 'reaction', 'date_day', 'post_id']\n",
      "losAngelesRestaurantHealthInspections:['serial_number', 'activity_date', 'facility_name', 'score', 'grade', 'service_code', 'service_description', 'employee_id', 'facility_address', 'facility_city', 'facility_id', 'facility_state', 'facility_zip', 'owner_id', 'owner_name', 'pe_description', 'program_element_pe', 'program_name', 'program_status', 'record_id']\n",
      "facebookProductFeaturesRealizations:['feature_id', 'user_id', 'step_reached', 'timestamp']\n"
     ]
    }
   ],
   "source": [
    "\n",
    "#outputs column names for each dataset\n",
    "dataset_names =list(datasets.keys())\n",
    "for name in dataset_names:\n",
    "    column_names = list(datasets[name].columns)\n",
    "    print(f'{name}:{column_names}')\n"
   ]
  },
  {
   "cell_type": "code",
   "execution_count": null,
   "metadata": {},
   "outputs": [],
   "source": [
    "#finding 1st degree connects amongst the columns: having at least one column with exact name\n",
    "for datasets"
   ]
  }
 ],
 "metadata": {
  "interpreter": {
   "hash": "aee8b7b246df8f9039afb4144a1f6fd8d2ca17a180786b69acc140d282b71a49"
  },
  "kernelspec": {
   "display_name": "Python 3.10.4 64-bit",
   "language": "python",
   "name": "python3"
  },
  "language_info": {
   "codemirror_mode": {
    "name": "ipython",
    "version": 3
   },
   "file_extension": ".py",
   "mimetype": "text/x-python",
   "name": "python",
   "nbconvert_exporter": "python",
   "pygments_lexer": "ipython3",
   "version": "3.10.4"
  },
  "orig_nbformat": 4
 },
 "nbformat": 4,
 "nbformat_minor": 2
}
