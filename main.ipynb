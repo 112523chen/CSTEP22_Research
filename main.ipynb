{
 "cells": [
  {
   "cell_type": "code",
   "execution_count": 1,
   "metadata": {},
   "outputs": [],
   "source": [
    "import pandas as pd\n",
    "import numpy as np\n",
    "import os"
   ]
  },
  {
   "cell_type": "code",
   "execution_count": 2,
   "metadata": {},
   "outputs": [],
   "source": [
    "# changes directory to the datasets folder\n",
    "os.chdir(\"./datasets\")\n",
    "# stores directory to datasets folder to be used later to get the csv files\n",
    "root = os.getcwd()\n",
    "# stores files names in current directory (datasets) in a list to be used later get a dataFrame \n",
    "files = os.listdir()\n",
    "# removes hidden file \n",
    "files.remove(\".DS_Store\")\n",
    "# assign a dictionary to referenced in the future to store dataFrames\n",
    "datasets = dict()\n",
    "\n",
    "\n",
    "for item in files:\n",
    "\n",
    "    # converts csv files to dataFrames\n",
    "    path = str(f'{root}/{item}')\n",
    "    df = pd.read_csv(path)\n",
    "\n",
    "    # gets specific file \n",
    "    br = item.split(\"_\")\n",
    "    targets = br[1:]\n",
    "\n",
    "    # converts file name from snake case to camel case\n",
    "    for i in range(len(targets)):\n",
    "        if i > 0:\n",
    "            text = targets[i]\n",
    "            text = text.capitalize()\n",
    "            targets[i] = text\n",
    "    target = \"\".join(targets)\n",
    "    \n",
    "    # removes file type from the end of string\n",
    "    target = target[:-4]\n",
    "\n",
    "    #stores dataFrames with camel case file name as key\n",
    "    datasets[target] = df\n",
    "\n",
    "    # print(targets,target)\n",
    "\n",
    "# ! there will less datasets when compared to files in dataset folder since the is one instance of datasets spanning multiple questions\n",
    "# * { files: 30 , datasets: 25}\n",
    "\n",
    "# changes directory to back to parent directory\n",
    "os.chdir(\"../\")\n"
   ]
  },
  {
   "cell_type": "code",
   "execution_count": 3,
   "metadata": {},
   "outputs": [],
   "source": [
    "logic_df = pd.read_csv('data_.csv')"
   ]
  },
  {
   "cell_type": "code",
   "execution_count": 4,
   "metadata": {},
   "outputs": [],
   "source": [
    "from Questions import  Question\n",
    "\n",
    "# stores nested dictionary \n",
    "datasets_by_company = dict()\n",
    "\n",
    "# sorts dataframe by companies\n",
    "logic_by_company = logic_df.groupby(\"company_name\")\n",
    "\n",
    "#creates a list of unique company names\n",
    "companies = list(logic_df[\"company_name\"].unique())\n",
    "\n",
    "#creates a list of unique question IDs\n",
    "question_IDs = list(logic_df[\"question_id\"].unique())\n",
    "\n",
    "#creates a dictionary within another dictionary for referencing questions\n",
    "for company in companies:\n",
    "    if company not in datasets_by_company.keys():\n",
    "        datasets_by_company[company] = dict()\n",
    "\n",
    "#creates object for each question and inputs them into dictionary\n",
    "for question_id in question_IDs:\n",
    "    question_id_df = logic_df[logic_df['question_id'] == question_id]\n",
    "    title = question_id_df['title'].unique()[0]\n",
    "    company_name = question_id_df['company_name'].unique()[0]\n",
    "    prompt = question_id_df['prompt'].unique()[0]\n",
    "    question_type = question_id_df['question_type'].unique()[0]\n",
    "    python_difficulty =  question_id_df['python_difficulty'].unique()[0]\n",
    "    sql_difficulty =  question_id_df['mySQL_difficulty'].unique()[0]\n",
    "    filesNames = list(question_id_df['file'].unique())\n",
    "\n",
    "    f = title.split()\n",
    "    f = map(str.capitalize,f)\n",
    "    f = \"\".join(f)\n",
    "    \n",
    "    question = Question(question_id,title,prompt,question_type,python_difficulty,sql_difficulty,filesNames,company_name)\n",
    "\n",
    "    datasets_by_company[company_name][f] = question"
   ]
  },
  {
   "cell_type": "code",
   "execution_count": 5,
   "metadata": {},
   "outputs": [],
   "source": [
    "# Creates a DataFrame of dictionary\n",
    "test = dict()\n",
    "for k in datasets_by_company.keys():\n",
    "    for k2 in datasets_by_company[k].keys():\n",
    "        x = datasets_by_company[k][k2]\n",
    "        y = k2\n",
    "        test[k2] = vars(x)\n",
    "\n",
    "data = pd.DataFrame(test).T\n",
    "\n",
    "# data"
   ]
  },
  {
   "cell_type": "code",
   "execution_count": 6,
   "metadata": {},
   "outputs": [],
   "source": [
    "companies.sort()\n",
    "\n",
    "# filter down by company\n",
    "company_answer = input(f\"Enter company name from following \\n {companies}\")\n",
    "# company_answer = \"Meta/Facebook\"\n",
    "\n",
    "question_from_company = datasets_by_company[company_answer]"
   ]
  },
  {
   "cell_type": "code",
   "execution_count": 7,
   "metadata": {},
   "outputs": [
    {
     "ename": "KeyError",
     "evalue": "''",
     "output_type": "error",
     "traceback": [
      "\u001b[0;31m---------------------------------------------------------------------------\u001b[0m",
      "\u001b[0;31mKeyError\u001b[0m                                  Traceback (most recent call last)",
      "\u001b[1;32m/Users/112523chen/Desktop/CSTEP22_Research/main.ipynb Cell 7'\u001b[0m in \u001b[0;36m<cell line: 7>\u001b[0;34m()\u001b[0m\n\u001b[1;32m      <a href='vscode-notebook-cell:/Users/112523chen/Desktop/CSTEP22_Research/main.ipynb#ch0000006?line=3'>4</a>\u001b[0m question_title \u001b[39m=\u001b[39m \u001b[39minput\u001b[39m(\u001b[39mf\u001b[39m\u001b[39m\"\u001b[39m\u001b[39mEnter question title from follow \u001b[39m\u001b[39m\\n\u001b[39;00m\u001b[39m \u001b[39m\u001b[39m{\u001b[39;00mquestion_from_company\u001b[39m}\u001b[39;00m\u001b[39m\"\u001b[39m)\n\u001b[1;32m      <a href='vscode-notebook-cell:/Users/112523chen/Desktop/CSTEP22_Research/main.ipynb#ch0000006?line=4'>5</a>\u001b[0m \u001b[39m# question_title = \"LikedPosts\"\u001b[39;00m\n\u001b[0;32m----> <a href='vscode-notebook-cell:/Users/112523chen/Desktop/CSTEP22_Research/main.ipynb#ch0000006?line=6'>7</a>\u001b[0m question \u001b[39m=\u001b[39m datasets_by_company[company_answer][question_title]\n",
      "\u001b[0;31mKeyError\u001b[0m: ''"
     ]
    }
   ],
   "source": [
    "question_from_company = list(question_from_company.keys())\n",
    "\n",
    "#filter down by question\n",
    "question_title = input(f\"Enter question title from follow \\n {question_from_company}\")\n",
    "# question_title = \"LikedPosts\"\n",
    "\n",
    "question = datasets_by_company[company_answer][question_title]\n"
   ]
  },
  {
   "cell_type": "code",
   "execution_count": null,
   "metadata": {},
   "outputs": [],
   "source": [
    "\n",
    "# shows questions info\n",
    "print(f\"Title: {question.title}\")\n",
    "print(f\"Prompt: {question.prompt}\")\n",
    "print(f\"Python Difficulty: {question.python_difficulty}\")\n",
    "print(f\"SQL Difficulty: {question.sql_difficulty}\")"
   ]
  },
  {
   "cell_type": "code",
   "execution_count": null,
   "metadata": {},
   "outputs": [],
   "source": [
    "from Functions import getDatasetAsDataFrame\n",
    "\n",
    "#number of rows shown\n",
    "r = 5\n",
    "\n",
    "# creates empty df for declaration \n",
    "df1 = pd.DataFrame({'A': []})\n",
    "df2 = pd.DataFrame({'A': []})\n",
    "\n",
    "\n",
    "# updates the needed df(s) with data\n",
    "for f in question.fileNames:\n",
    "    data = getDatasetAsDataFrame(f)\n",
    "    if df1.empty:\n",
    "        df1 = data\n",
    "    elif df2.empty:\n",
    "        df2 = data\n",
    "\n",
    "# establish variables for the information of the needed df(s)\n",
    "data1 = df1.head(r)\n",
    "# column_data1 = df1.dtypes\n",
    "if df2.empty:\n",
    "    data2 = ''\n",
    "    # column_data2 = ''\n",
    "else:\n",
    "    data2 = df2.head(r)\n",
    "    # column_data2 = df2.dtypes\n",
    "\n",
    "print(f\"Starting DataFrame(s):\\n{data1}\\n\\n{data2}\")\n"
   ]
  },
  {
   "cell_type": "code",
   "execution_count": null,
   "metadata": {},
   "outputs": [],
   "source": [
    "from Functions import getPythonSolution, getSQLSolution, getSolutions\n",
    "\n",
    "#get solution(s) from directory for question\n",
    "pythonSolution = getPythonSolution(question_title)\n",
    "sqlSolution = getSQLSolution(question_title)\n",
    "\n",
    "solutions = getSolutions(question_title)\n"
   ]
  },
  {
   "cell_type": "code",
   "execution_count": null,
   "metadata": {},
   "outputs": [],
   "source": [
    "print(solutions)"
   ]
  }
 ],
 "metadata": {
  "interpreter": {
   "hash": "aee8b7b246df8f9039afb4144a1f6fd8d2ca17a180786b69acc140d282b71a49"
  },
  "kernelspec": {
   "display_name": "Python 3.10.4 64-bit",
   "language": "python",
   "name": "python3"
  },
  "language_info": {
   "codemirror_mode": {
    "name": "ipython",
    "version": 3
   },
   "file_extension": ".py",
   "mimetype": "text/x-python",
   "name": "python",
   "nbconvert_exporter": "python",
   "pygments_lexer": "ipython3",
   "version": "3.10.4"
  },
  "orig_nbformat": 4
 },
 "nbformat": 4,
 "nbformat_minor": 2
}
