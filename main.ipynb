{
 "cells": [
  {
   "cell_type": "code",
   "execution_count": 1,
   "metadata": {},
   "outputs": [],
   "source": [
    "import pandas as pd\n",
    "import numpy as np\n",
    "import os"
   ]
  },
  {
   "cell_type": "code",
   "execution_count": 2,
   "metadata": {},
   "outputs": [],
   "source": [
    "# changes directory to the datasets folder\n",
    "os.chdir(\"./datasets\")\n",
    "# stores directory to datasets folder to be used later to get the csv files\n",
    "root = os.getcwd()\n",
    "# stores files names in current directory (datasets) in a list to be used later get a dataFrame \n",
    "files = os.listdir()\n",
    "# removes hidden file \n",
    "files.remove(\".DS_Store\")\n",
    "# assign a dictionary to referenced in the future to store dataFrames\n",
    "datasets = dict()\n",
    "\n",
    "\n",
    "for item in files:\n",
    "\n",
    "    # converts csv files to dataFrames\n",
    "    path = str(f'{root}/{item}')\n",
    "    df = pd.read_csv(path)\n",
    "\n",
    "    # gets specific file \n",
    "    br = item.split(\"_\")\n",
    "    targets = br[1:]\n",
    "\n",
    "    # converts file name from snake case to camel case\n",
    "    for i in range(len(targets)):\n",
    "        if i > 0:\n",
    "            text = targets[i]\n",
    "            text = text.capitalize()\n",
    "            targets[i] = text\n",
    "    target = \"\".join(targets)\n",
    "    \n",
    "    # removes file type from the end of string\n",
    "    target = target[:-4]\n",
    "\n",
    "    #stores dataFrames with camel case file name as key\n",
    "    datasets[target] = df\n",
    "\n",
    "    # print(targets,target)\n",
    "\n",
    "# ! there will less datasets when compared to files in dataset folder since the is one instance of datasets spanning multiple questions\n",
    "# * { files: 30 , datasets: 25}\n",
    "\n",
    "# changes directory to back to parent directory\n",
    "os.chdir(\"../\")\n"
   ]
  },
  {
   "cell_type": "code",
   "execution_count": 3,
   "metadata": {},
   "outputs": [],
   "source": [
    "logic_df = pd.read_csv('data_.csv')"
   ]
  },
  {
   "cell_type": "code",
   "execution_count": 4,
   "metadata": {},
   "outputs": [],
   "source": [
    "from Questions import  Question\n",
    "\n",
    "# stores nested dictionary \n",
    "datasets_by_company = dict()\n",
    "\n",
    "# sorts dataframe by companies\n",
    "logic_by_company = logic_df.groupby(\"company_name\")\n",
    "\n",
    "#creates a list of unique company names\n",
    "companies = list(logic_df[\"company_name\"].unique())\n",
    "\n",
    "#creates a list of unique question IDs\n",
    "question_IDs = list(logic_df[\"question_id\"].unique())\n",
    "\n",
    "#creates a dictionary within another dictionary for referencing questions - company\n",
    "for company in companies:\n",
    "    if company not in datasets_by_company.keys():\n",
    "        datasets_by_company[company] = dict()\n",
    "\n",
    "#creates a dictionary within another dictionary for referencing questions - difficulty\n",
    "for company in companies:\n",
    "    difficulties = list(logic_df[logic_df.company_name == company][\"python_difficulty\"].unique())\n",
    "    for difficulty in difficulties:\n",
    "        datasets_by_company[company][difficulty] = dict()\n",
    "\n",
    "#creates object for each question and inputs them into dictionary\n",
    "for question_id in question_IDs:\n",
    "    question_id_df = logic_df[logic_df['question_id'] == question_id]\n",
    "    title = question_id_df['title'].unique()[0]\n",
    "    company_name = question_id_df['company_name'].unique()[0]\n",
    "    prompt = question_id_df['prompt'].unique()[0]\n",
    "    question_type = question_id_df['question_type'].unique()[0]\n",
    "    python_difficulty =  question_id_df['python_difficulty'].unique()[0]\n",
    "    sql_difficulty =  question_id_df['mySQL_difficulty'].unique()[0]\n",
    "    filesNames = list(question_id_df['file'].unique())\n",
    "\n",
    "    f = title.split()\n",
    "    f = map(str.capitalize,f)\n",
    "    f = \"\".join(f)\n",
    "    \n",
    "    question = Question(question_id,title,prompt,question_type,python_difficulty,sql_difficulty,filesNames,company_name)\n",
    "\n",
    "    datasets_by_company[company_name][python_difficulty][f] = question"
   ]
  },
  {
   "cell_type": "code",
   "execution_count": 5,
   "metadata": {},
   "outputs": [],
   "source": [
    "# Creates a DataFrame of dictionary\n",
    "test = dict()\n",
    "for k in datasets_by_company.keys():\n",
    "    for k2 in datasets_by_company[k].keys():\n",
    "        for k3 in datasets_by_company[k][k2].keys():\n",
    "            x = datasets_by_company[k][k2][k3]\n",
    "            test[k3] = vars(x)\n",
    "\n",
    "data = pd.DataFrame(test).T\n",
    "\n",
    "# data"
   ]
  },
  {
   "cell_type": "code",
   "execution_count": 6,
   "metadata": {},
   "outputs": [],
   "source": [
    "companies.sort()\n",
    "\n",
    "# filter down by company\n",
    "company_answer = input(f\"Enter company name from following \\n {companies}\")\n",
    "# company_answer = \"Meta/Facebook\"\n",
    "\n",
    "difficulty_from_company = datasets_by_company[company_answer]\n"
   ]
  },
  {
   "cell_type": "code",
   "execution_count": 7,
   "metadata": {},
   "outputs": [],
   "source": [
    "difficulty_from_company = list(difficulty_from_company.keys())\n",
    "\n",
    "#filter down by difficult\n",
    "difficult_answer = input(f\"Enter difficulty of question \\n {difficulty_from_company}\")\n",
    "# difficult_answer = 'medium'\n",
    "\n",
    "question_from_company = datasets_by_company[company_answer][difficult_answer]"
   ]
  },
  {
   "cell_type": "code",
   "execution_count": 8,
   "metadata": {},
   "outputs": [],
   "source": [
    "question_from_company = list(question_from_company)\n",
    "\n",
    "#filter down by question\n",
    "question_title = input(f\"Enter question title from follow \\n {question_from_company}\")\n",
    "# question_title = \"LikedPosts\"\n",
    "\n",
    "question = datasets_by_company[company_answer][difficult_answer][question_title]\n"
   ]
  },
  {
   "cell_type": "code",
   "execution_count": 9,
   "metadata": {},
   "outputs": [
    {
     "name": "stdout",
     "output_type": "stream",
     "text": [
      "Title: Total Order Per Status Per Service\n",
      "Prompt: Uber is interested in identifying gaps in their business. Calculate the count of orders for each status of each service. Your output should include the service name, status of the order, and the number of orders.\n",
      "Python Difficulty: easy\n",
      "SQL Difficulty: easy\n"
     ]
    }
   ],
   "source": [
    "\n",
    "# shows questions info\n",
    "print(f\"Title: {question.title}\")\n",
    "print(f\"Prompt: {question.prompt}\")\n",
    "print(f\"Python Difficulty: {question.python_difficulty}\")\n",
    "print(f\"SQL Difficulty: {question.sql_difficulty}\")"
   ]
  },
  {
   "cell_type": "code",
   "execution_count": 10,
   "metadata": {},
   "outputs": [
    {
     "name": "stdout",
     "output_type": "stream",
     "text": [
      "Starting DataFrame(s):\n",
      "  order_date  number_of_orders status_of_order  monetary_value service_name\n",
      "0   1/1/2016               180       Cancelled      76076000.0     Uber_BOX\n",
      "1   1/1/2016                10       Cancelled       1960140.0   Uber_CLEAN\n",
      "2   1/1/2016             28380       Cancelled     489898500.0    Uber_FOOD\n",
      "3   1/1/2016                 0       Cancelled        728000.0    Uber_GLAM\n",
      "4   1/1/2016                10       Cancelled        136500.0   Uber_KILAT\n",
      "\n",
      "\n"
     ]
    }
   ],
   "source": [
    "from Functions import getDatasetAsDataFrame\n",
    "\n",
    "#number of rows shown\n",
    "r = 5\n",
    "\n",
    "# creates empty df for declaration \n",
    "df1 = pd.DataFrame({'A': []})\n",
    "df2 = pd.DataFrame({'A': []})\n",
    "\n",
    "\n",
    "# updates the needed df(s) with data\n",
    "for f in question.fileNames:\n",
    "    data = getDatasetAsDataFrame(f)\n",
    "    if df1.empty:\n",
    "        df1 = data\n",
    "    elif df2.empty:\n",
    "        df2 = data\n",
    "\n",
    "# establish variables for the information of the needed df(s)\n",
    "data1 = df1.head(r)\n",
    "column_data1 = df1.dtypes\n",
    "if df2.empty:\n",
    "    data2 = ''\n",
    "    column_data2 = ''\n",
    "else:\n",
    "    data2 = df2.head(r)\n",
    "    column_data2 = df2.dtypes\n",
    "\n",
    "print(f\"Starting DataFrame(s):\\n{data1}\\n\\n{data2}\")\n"
   ]
  },
  {
   "cell_type": "code",
   "execution_count": 11,
   "metadata": {},
   "outputs": [
    {
     "name": "stdout",
     "output_type": "stream",
     "text": [
      "DataFrame Info:\n",
      "order_date           object\n",
      "number_of_orders      int64\n",
      "status_of_order      object\n",
      "monetary_value      float64\n",
      "service_name         object\n",
      "dtype: object\n",
      "\n",
      "\n"
     ]
    }
   ],
   "source": [
    "print(f\"DataFrame Info:\\n{column_data1}\\n\\n{column_data2}\")\n"
   ]
  },
  {
   "cell_type": "code",
   "execution_count": 12,
   "metadata": {},
   "outputs": [
    {
     "name": "stdout",
     "output_type": "stream",
     "text": [
      "Final Result:\n",
      "\n",
      "    service_name  status_of_order  number_of_orders\n",
      "0       Uber_BOX        Cancelled              3140\n",
      "1       Uber_BOX        Completed              6580\n",
      "2       Uber_BOX  No Driver Found               390\n",
      "3     Uber_CLEAN        Cancelled               190\n",
      "4     Uber_CLEAN        Completed              1630\n",
      "5     Uber_CLEAN  No Driver Found                60\n",
      "6     Uber_CLEAN            Other                40\n",
      "7      Uber_FOOD        Cancelled            221420\n",
      "8      Uber_FOOD        Completed            721210\n",
      "9      Uber_FOOD  No Driver Found             10750\n",
      "10     Uber_FOOD            Other              1250\n",
      "11     Uber_GLAM        Cancelled               130\n",
      "12     Uber_GLAM        Completed               820\n",
      "13     Uber_GLAM  No Driver Found               190\n",
      "14     Uber_GLAM            Other                10\n",
      "15    Uber_KILAT        Cancelled               130\n",
      "16    Uber_KILAT        Completed              2200\n",
      "17    Uber_KILAT  No Driver Found               150\n",
      "18    Uber_KILAT            Other                 0\n",
      "19     Uber_MART        Cancelled              8950\n",
      "20     Uber_MART        Completed             21390\n",
      "21     Uber_MART  No Driver Found                60\n",
      "22     Uber_MART            Other                 0\n",
      "23  Uber_MASSAGE        Cancelled               760\n",
      "24  Uber_MASSAGE        Completed              4470\n",
      "25  Uber_MASSAGE  No Driver Found               340\n",
      "26  Uber_MASSAGE            Other                60\n",
      "27     Uber_RIDE        Cancelled            621620\n",
      "28     Uber_RIDE        Completed           3254060\n",
      "29     Uber_RIDE  No Driver Found            269720\n",
      "30     Uber_RIDE            Other               800\n",
      "31     Uber_SEND        Cancelled             55660\n",
      "32     Uber_SEND        Completed            328060\n",
      "33     Uber_SEND  No Driver Found             22610\n",
      "34     Uber_SEND            Other                60\n",
      "35     Uber_SHOP        Cancelled             68900\n",
      "36     Uber_SHOP        Completed            144380\n",
      "37     Uber_SHOP  No Driver Found              3700\n",
      "38     Uber_SHOP            Other                50\n",
      "39      Uber_TIX        Cancelled              2350\n",
      "40      Uber_TIX        Completed               630\n",
      "41      Uber_TIX   Failed/Timeout               420\n"
     ]
    }
   ],
   "source": [
    "from Functions import getFinalResult\n",
    "#get final result\n",
    "finalResult = getFinalResult(question_title)\n",
    "\n",
    "q1 = input(\"Would you like to see final result? (Y/N)\")\n",
    "q1 = str.capitalize(q1)\n",
    "if(q1 == \"Y\"):\n",
    "    print(f\"Final Result:\\n\\n{finalResult}\")\n"
   ]
  },
  {
   "cell_type": "code",
   "execution_count": 13,
   "metadata": {},
   "outputs": [
    {
     "name": "stdout",
     "output_type": "stream",
     "text": [
      "Python Solution:\n",
      "# Import your libraries\n",
      "import pandas as pd\n",
      "\n",
      "# Start writing code\n",
      "uber_orders.head()\n",
      "df = uber_orders.groupby(['service_name', 'status_of_order']).sum()\n",
      "df = df['number_of_orders'].reset_index()\n",
      "df \n",
      "\n",
      "SQL Solution:\n",
      "select service_name, status_of_order, sum(number_of_orders) as 'number of orders' \n",
      "from uber_orders\n",
      "group by service_name, status_of_order;\n",
      "\n"
     ]
    }
   ],
   "source": [
    "from Functions import getPythonSolution, getSQLSolution, getSolutions\n",
    "\n",
    "#get solution(s) from directory for question\n",
    "pythonSolution = getPythonSolution(question_title)\n",
    "sqlSolution = getSQLSolution(question_title)\n",
    "solutions = getSolutions(question_title)\n",
    "\n",
    "\n",
    "q2a = input(\"Would you like to see solution? (Y/N)\")\n",
    "q2a = str.capitalize(q1)\n",
    "if(q2a == \"Y\"):\n",
    "    q2b = input(\"Select the solution(s) you will like to see (Python, SQL, Both)\")\n",
    "    if(q2b == \"Python\"):\n",
    "        print(pythonSolution)\n",
    "    elif(q2b == \"SQL\"):\n",
    "        print(sqlSolution)\n",
    "    elif(q2b == \"Both\"):\n",
    "        print(solutions)\n"
   ]
  }
 ],
 "metadata": {
  "interpreter": {
   "hash": "aee8b7b246df8f9039afb4144a1f6fd8d2ca17a180786b69acc140d282b71a49"
  },
  "kernelspec": {
   "display_name": "Python 3.10.4 64-bit",
   "language": "python",
   "name": "python3"
  },
  "language_info": {
   "codemirror_mode": {
    "name": "ipython",
    "version": 3
   },
   "file_extension": ".py",
   "mimetype": "text/x-python",
   "name": "python",
   "nbconvert_exporter": "python",
   "pygments_lexer": "ipython3",
   "version": "3.10.4"
  },
  "orig_nbformat": 4
 },
 "nbformat": 4,
 "nbformat_minor": 2
}
